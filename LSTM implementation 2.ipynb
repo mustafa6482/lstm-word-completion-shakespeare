{
 "cells": [
  {
   "cell_type": "code",
   "execution_count": 10,
   "id": "7b5e7e29-5fa3-4479-b86c-d3e5e074e883",
   "metadata": {},
   "outputs": [
    {
     "name": "stderr",
     "output_type": "stream",
     "text": [
      "[nltk_data] Downloading package stopwords to\n",
      "[nltk_data]     C:\\Users\\Mustafa\\AppData\\Roaming\\nltk_data...\n",
      "[nltk_data]   Package stopwords is already up-to-date!\n"
     ]
    },
    {
     "name": "stdout",
     "output_type": "stream",
     "text": [
      "done\n"
     ]
    }
   ],
   "source": [
    "import numpy as np\n",
    "import pandas as pd\n",
    "import nltk\n",
    "import tensorflow as tf\n",
    "from sklearn.model_selection import train_test_split\n",
    "\n",
    "# Download NLTK stop words\n",
    "nltk.download('stopwords')\n",
    "from nltk.corpus import stopwords\n",
    "\n",
    "# Load dataset\n",
    "df = pd.read_csv('Shakespeare_data.csv')\n",
    "\n",
    "# Remove stop words\n",
    "stop_words = set(stopwords.words('english'))\n",
    "\n",
    "def remove_stopwords(line):\n",
    "    words = line.split()\n",
    "    return ' '.join([word for word in words if word.lower() not in stop_words])\n",
    "\n",
    "df['PlayerLine'] = df['PlayerLine'].apply(remove_stopwords)\n",
    "\n",
    "# Tokenization\n",
    "tokenizer = tf.keras.preprocessing.text.Tokenizer()\n",
    "tokenizer.fit_on_texts(df['PlayerLine'])\n",
    "\n",
    "# Convert text into sequences of integers\n",
    "sequences = tokenizer.texts_to_sequences(df['PlayerLine'])\n",
    "\n",
    "# Prepare input-output pairs (overlapping sequences)\n",
    "sequence_length = 5  # Number of input words\n",
    "vocab_size = len(tokenizer.word_index) + 1  # Total number of unique words\n",
    "\n",
    "input_sequences = []\n",
    "output_words = []\n",
    "\n",
    "for sequence in sequences:\n",
    "    for i in range(sequence_length, len(sequence)):\n",
    "        input_sequences.append(sequence[i-sequence_length:i])\n",
    "        output_words.append(sequence[i])\n",
    "\n",
    "# Convert lists to arrays\n",
    "input_sequences = np.array(input_sequences)\n",
    "output_words = np.array(output_words)\n",
    "\n",
    "# One-hot encode the output words\n",
    "output_words = np.eye(vocab_size)[output_words]\n",
    "\n",
    "# Train-test split\n",
    "X_train, X_test, y_train, y_test = train_test_split(input_sequences, output_words, test_size=0.2, random_state=42)\n",
    "print(\"done\")\n"
   ]
  },
  {
   "cell_type": "code",
   "execution_count": 12,
   "id": "29026494-cc33-4cee-8b43-74d8f114503a",
   "metadata": {},
   "outputs": [
    {
     "name": "stderr",
     "output_type": "stream",
     "text": [
      "C:\\Users\\Mustafa\\anaconda3\\Lib\\site-packages\\keras\\src\\layers\\core\\embedding.py:90: UserWarning: Argument `input_length` is deprecated. Just remove it.\n",
      "  warnings.warn(\n"
     ]
    },
    {
     "name": "stdout",
     "output_type": "stream",
     "text": [
      "Epoch 1/50\n",
      "\u001b[1m721/721\u001b[0m \u001b[32m━━━━━━━━━━━━━━━━━━━━\u001b[0m\u001b[37m\u001b[0m \u001b[1m35s\u001b[0m 42ms/step - accuracy: 0.0120 - loss: 8.7691 - val_accuracy: 0.0128 - val_loss: 7.9748\n",
      "Epoch 2/50\n",
      "\u001b[1m721/721\u001b[0m \u001b[32m━━━━━━━━━━━━━━━━━━━━\u001b[0m\u001b[37m\u001b[0m \u001b[1m29s\u001b[0m 40ms/step - accuracy: 0.0109 - loss: 7.4771 - val_accuracy: 0.0147 - val_loss: 8.0311\n",
      "Epoch 3/50\n",
      "\u001b[1m721/721\u001b[0m \u001b[32m━━━━━━━━━━━━━━━━━━━━\u001b[0m\u001b[37m\u001b[0m \u001b[1m29s\u001b[0m 40ms/step - accuracy: 0.0158 - loss: 7.2607 - val_accuracy: 0.0158 - val_loss: 8.1705\n",
      "Epoch 4/50\n",
      "\u001b[1m721/721\u001b[0m \u001b[32m━━━━━━━━━━━━━━━━━━━━\u001b[0m\u001b[37m\u001b[0m \u001b[1m31s\u001b[0m 42ms/step - accuracy: 0.0211 - loss: 7.0823 - val_accuracy: 0.0234 - val_loss: 8.2126\n",
      "Epoch 5/50\n",
      "\u001b[1m721/721\u001b[0m \u001b[32m━━━━━━━━━━━━━━━━━━━━\u001b[0m\u001b[37m\u001b[0m \u001b[1m31s\u001b[0m 42ms/step - accuracy: 0.0325 - loss: 6.8010 - val_accuracy: 0.0239 - val_loss: 8.3946\n",
      "Epoch 6/50\n",
      "\u001b[1m721/721\u001b[0m \u001b[32m━━━━━━━━━━━━━━━━━━━━\u001b[0m\u001b[37m\u001b[0m \u001b[1m30s\u001b[0m 42ms/step - accuracy: 0.0390 - loss: 6.5471 - val_accuracy: 0.0276 - val_loss: 8.6232\n",
      "Epoch 7/50\n",
      "\u001b[1m721/721\u001b[0m \u001b[32m━━━━━━━━━━━━━━━━━━━━\u001b[0m\u001b[37m\u001b[0m \u001b[1m29s\u001b[0m 41ms/step - accuracy: 0.0511 - loss: 6.2608 - val_accuracy: 0.0290 - val_loss: 8.7661\n",
      "Epoch 8/50\n",
      "\u001b[1m721/721\u001b[0m \u001b[32m━━━━━━━━━━━━━━━━━━━━\u001b[0m\u001b[37m\u001b[0m \u001b[1m29s\u001b[0m 41ms/step - accuracy: 0.0640 - loss: 5.9694 - val_accuracy: 0.0291 - val_loss: 8.9143\n",
      "Epoch 9/50\n",
      "\u001b[1m721/721\u001b[0m \u001b[32m━━━━━━━━━━━━━━━━━━━━\u001b[0m\u001b[37m\u001b[0m \u001b[1m30s\u001b[0m 42ms/step - accuracy: 0.0773 - loss: 5.6610 - val_accuracy: 0.0295 - val_loss: 9.0823\n",
      "Epoch 10/50\n",
      "\u001b[1m721/721\u001b[0m \u001b[32m━━━━━━━━━━━━━━━━━━━━\u001b[0m\u001b[37m\u001b[0m \u001b[1m30s\u001b[0m 41ms/step - accuracy: 0.1000 - loss: 5.3593 - val_accuracy: 0.0295 - val_loss: 9.3510\n",
      "Epoch 11/50\n",
      "\u001b[1m721/721\u001b[0m \u001b[32m━━━━━━━━━━━━━━━━━━━━\u001b[0m\u001b[37m\u001b[0m \u001b[1m31s\u001b[0m 43ms/step - accuracy: 0.1246 - loss: 5.0792 - val_accuracy: 0.0309 - val_loss: 9.4835\n",
      "Epoch 12/50\n",
      "\u001b[1m721/721\u001b[0m \u001b[32m━━━━━━━━━━━━━━━━━━━━\u001b[0m\u001b[37m\u001b[0m \u001b[1m31s\u001b[0m 42ms/step - accuracy: 0.1608 - loss: 4.7865 - val_accuracy: 0.0293 - val_loss: 9.6501\n",
      "Epoch 13/50\n",
      "\u001b[1m721/721\u001b[0m \u001b[32m━━━━━━━━━━━━━━━━━━━━\u001b[0m\u001b[37m\u001b[0m \u001b[1m30s\u001b[0m 42ms/step - accuracy: 0.2084 - loss: 4.4587 - val_accuracy: 0.0269 - val_loss: 9.8945\n",
      "Epoch 14/50\n",
      "\u001b[1m721/721\u001b[0m \u001b[32m━━━━━━━━━━━━━━━━━━━━\u001b[0m\u001b[37m\u001b[0m \u001b[1m31s\u001b[0m 42ms/step - accuracy: 0.2584 - loss: 4.1727 - val_accuracy: 0.0285 - val_loss: 10.1571\n",
      "Epoch 15/50\n",
      "\u001b[1m721/721\u001b[0m \u001b[32m━━━━━━━━━━━━━━━━━━━━\u001b[0m\u001b[37m\u001b[0m \u001b[1m30s\u001b[0m 42ms/step - accuracy: 0.3106 - loss: 3.8763 - val_accuracy: 0.0300 - val_loss: 10.2558\n",
      "Epoch 16/50\n",
      "\u001b[1m721/721\u001b[0m \u001b[32m━━━━━━━━━━━━━━━━━━━━\u001b[0m\u001b[37m\u001b[0m \u001b[1m30s\u001b[0m 42ms/step - accuracy: 0.3624 - loss: 3.5884 - val_accuracy: 0.0272 - val_loss: 10.4649\n",
      "Epoch 17/50\n",
      "\u001b[1m721/721\u001b[0m \u001b[32m━━━━━━━━━━━━━━━━━━━━\u001b[0m\u001b[37m\u001b[0m \u001b[1m42s\u001b[0m 42ms/step - accuracy: 0.4165 - loss: 3.3076 - val_accuracy: 0.0285 - val_loss: 10.5892\n",
      "Epoch 18/50\n",
      "\u001b[1m721/721\u001b[0m \u001b[32m━━━━━━━━━━━━━━━━━━━━\u001b[0m\u001b[37m\u001b[0m \u001b[1m30s\u001b[0m 42ms/step - accuracy: 0.4550 - loss: 3.0756 - val_accuracy: 0.0269 - val_loss: 10.7006\n",
      "Epoch 19/50\n",
      "\u001b[1m721/721\u001b[0m \u001b[32m━━━━━━━━━━━━━━━━━━━━\u001b[0m\u001b[37m\u001b[0m \u001b[1m30s\u001b[0m 42ms/step - accuracy: 0.5080 - loss: 2.8030 - val_accuracy: 0.0267 - val_loss: 10.9315\n",
      "Epoch 20/50\n",
      "\u001b[1m721/721\u001b[0m \u001b[32m━━━━━━━━━━━━━━━━━━━━\u001b[0m\u001b[37m\u001b[0m \u001b[1m30s\u001b[0m 42ms/step - accuracy: 0.5526 - loss: 2.5631 - val_accuracy: 0.0245 - val_loss: 11.0821\n",
      "Epoch 21/50\n",
      "\u001b[1m721/721\u001b[0m \u001b[32m━━━━━━━━━━━━━━━━━━━━\u001b[0m\u001b[37m\u001b[0m \u001b[1m30s\u001b[0m 42ms/step - accuracy: 0.5874 - loss: 2.3629 - val_accuracy: 0.0241 - val_loss: 11.2225\n",
      "Epoch 22/50\n",
      "\u001b[1m721/721\u001b[0m \u001b[32m━━━━━━━━━━━━━━━━━━━━\u001b[0m\u001b[37m\u001b[0m \u001b[1m30s\u001b[0m 42ms/step - accuracy: 0.6239 - loss: 2.1531 - val_accuracy: 0.0234 - val_loss: 11.4084\n",
      "Epoch 23/50\n",
      "\u001b[1m721/721\u001b[0m \u001b[32m━━━━━━━━━━━━━━━━━━━━\u001b[0m\u001b[37m\u001b[0m \u001b[1m31s\u001b[0m 42ms/step - accuracy: 0.6597 - loss: 1.9511 - val_accuracy: 0.0234 - val_loss: 11.5493\n",
      "Epoch 24/50\n",
      "\u001b[1m721/721\u001b[0m \u001b[32m━━━━━━━━━━━━━━━━━━━━\u001b[0m\u001b[37m\u001b[0m \u001b[1m41s\u001b[0m 42ms/step - accuracy: 0.6923 - loss: 1.7631 - val_accuracy: 0.0232 - val_loss: 11.7246\n",
      "Epoch 25/50\n",
      "\u001b[1m721/721\u001b[0m \u001b[32m━━━━━━━━━━━━━━━━━━━━\u001b[0m\u001b[37m\u001b[0m \u001b[1m30s\u001b[0m 42ms/step - accuracy: 0.7243 - loss: 1.6082 - val_accuracy: 0.0213 - val_loss: 11.8501\n",
      "Epoch 26/50\n",
      "\u001b[1m721/721\u001b[0m \u001b[32m━━━━━━━━━━━━━━━━━━━━\u001b[0m\u001b[37m\u001b[0m \u001b[1m31s\u001b[0m 43ms/step - accuracy: 0.7502 - loss: 1.4593 - val_accuracy: 0.0208 - val_loss: 12.0412\n",
      "Epoch 27/50\n",
      "\u001b[1m721/721\u001b[0m \u001b[32m━━━━━━━━━━━━━━━━━━━━\u001b[0m\u001b[37m\u001b[0m \u001b[1m30s\u001b[0m 42ms/step - accuracy: 0.7755 - loss: 1.3087 - val_accuracy: 0.0213 - val_loss: 12.1597\n",
      "Epoch 28/50\n",
      "\u001b[1m721/721\u001b[0m \u001b[32m━━━━━━━━━━━━━━━━━━━━\u001b[0m\u001b[37m\u001b[0m \u001b[1m41s\u001b[0m 42ms/step - accuracy: 0.7989 - loss: 1.1847 - val_accuracy: 0.0210 - val_loss: 12.3304\n",
      "Epoch 29/50\n",
      "\u001b[1m721/721\u001b[0m \u001b[32m━━━━━━━━━━━━━━━━━━━━\u001b[0m\u001b[37m\u001b[0m \u001b[1m30s\u001b[0m 42ms/step - accuracy: 0.8227 - loss: 1.0697 - val_accuracy: 0.0224 - val_loss: 12.4645\n",
      "Epoch 30/50\n",
      "\u001b[1m721/721\u001b[0m \u001b[32m━━━━━━━━━━━━━━━━━━━━\u001b[0m\u001b[37m\u001b[0m \u001b[1m30s\u001b[0m 42ms/step - accuracy: 0.8397 - loss: 0.9707 - val_accuracy: 0.0213 - val_loss: 12.6170\n",
      "Epoch 31/50\n",
      "\u001b[1m721/721\u001b[0m \u001b[32m━━━━━━━━━━━━━━━━━━━━\u001b[0m\u001b[37m\u001b[0m \u001b[1m38s\u001b[0m 38ms/step - accuracy: 0.8595 - loss: 0.8581 - val_accuracy: 0.0208 - val_loss: 12.7578\n",
      "Epoch 32/50\n",
      "\u001b[1m721/721\u001b[0m \u001b[32m━━━━━━━━━━━━━━━━━━━━\u001b[0m\u001b[37m\u001b[0m \u001b[1m31s\u001b[0m 42ms/step - accuracy: 0.8784 - loss: 0.7714 - val_accuracy: 0.0208 - val_loss: 12.8582\n",
      "Epoch 33/50\n",
      "\u001b[1m721/721\u001b[0m \u001b[32m━━━━━━━━━━━━━━━━━━━━\u001b[0m\u001b[37m\u001b[0m \u001b[1m31s\u001b[0m 42ms/step - accuracy: 0.8974 - loss: 0.6696 - val_accuracy: 0.0205 - val_loss: 13.0780\n",
      "Epoch 34/50\n",
      "\u001b[1m721/721\u001b[0m \u001b[32m━━━━━━━━━━━━━━━━━━━━\u001b[0m\u001b[37m\u001b[0m \u001b[1m41s\u001b[0m 42ms/step - accuracy: 0.9103 - loss: 0.6061 - val_accuracy: 0.0187 - val_loss: 13.2095\n",
      "Epoch 35/50\n",
      "\u001b[1m721/721\u001b[0m \u001b[32m━━━━━━━━━━━━━━━━━━━━\u001b[0m\u001b[37m\u001b[0m \u001b[1m41s\u001b[0m 42ms/step - accuracy: 0.9187 - loss: 0.5481 - val_accuracy: 0.0212 - val_loss: 13.3214\n",
      "Epoch 36/50\n",
      "\u001b[1m721/721\u001b[0m \u001b[32m━━━━━━━━━━━━━━━━━━━━\u001b[0m\u001b[37m\u001b[0m \u001b[1m41s\u001b[0m 42ms/step - accuracy: 0.9314 - loss: 0.4801 - val_accuracy: 0.0205 - val_loss: 13.4499\n",
      "Epoch 37/50\n",
      "\u001b[1m721/721\u001b[0m \u001b[32m━━━━━━━━━━━━━━━━━━━━\u001b[0m\u001b[37m\u001b[0m \u001b[1m30s\u001b[0m 42ms/step - accuracy: 0.9448 - loss: 0.4151 - val_accuracy: 0.0193 - val_loss: 13.6333\n",
      "Epoch 38/50\n",
      "\u001b[1m721/721\u001b[0m \u001b[32m━━━━━━━━━━━━━━━━━━━━\u001b[0m\u001b[37m\u001b[0m \u001b[1m31s\u001b[0m 43ms/step - accuracy: 0.9522 - loss: 0.3683 - val_accuracy: 0.0205 - val_loss: 13.7672\n",
      "Epoch 39/50\n",
      "\u001b[1m721/721\u001b[0m \u001b[32m━━━━━━━━━━━━━━━━━━━━\u001b[0m\u001b[37m\u001b[0m \u001b[1m31s\u001b[0m 43ms/step - accuracy: 0.9569 - loss: 0.3312 - val_accuracy: 0.0200 - val_loss: 13.9137\n",
      "Epoch 40/50\n",
      "\u001b[1m721/721\u001b[0m \u001b[32m━━━━━━━━━━━━━━━━━━━━\u001b[0m\u001b[37m\u001b[0m \u001b[1m41s\u001b[0m 42ms/step - accuracy: 0.9673 - loss: 0.2790 - val_accuracy: 0.0210 - val_loss: 13.9952\n",
      "Epoch 41/50\n",
      "\u001b[1m721/721\u001b[0m \u001b[32m━━━━━━━━━━━━━━━━━━━━\u001b[0m\u001b[37m\u001b[0m \u001b[1m41s\u001b[0m 43ms/step - accuracy: 0.9730 - loss: 0.2449 - val_accuracy: 0.0193 - val_loss: 14.1896\n",
      "Epoch 42/50\n",
      "\u001b[1m721/721\u001b[0m \u001b[32m━━━━━━━━━━━━━━━━━━━━\u001b[0m\u001b[37m\u001b[0m \u001b[1m31s\u001b[0m 42ms/step - accuracy: 0.9761 - loss: 0.2200 - val_accuracy: 0.0194 - val_loss: 14.2907\n",
      "Epoch 43/50\n",
      "\u001b[1m721/721\u001b[0m \u001b[32m━━━━━━━━━━━━━━━━━━━━\u001b[0m\u001b[37m\u001b[0m \u001b[1m41s\u001b[0m 42ms/step - accuracy: 0.9821 - loss: 0.1845 - val_accuracy: 0.0201 - val_loss: 14.4286\n",
      "Epoch 44/50\n",
      "\u001b[1m721/721\u001b[0m \u001b[32m━━━━━━━━━━━━━━━━━━━━\u001b[0m\u001b[37m\u001b[0m \u001b[1m31s\u001b[0m 42ms/step - accuracy: 0.9846 - loss: 0.1660 - val_accuracy: 0.0201 - val_loss: 14.6091\n",
      "Epoch 45/50\n",
      "\u001b[1m721/721\u001b[0m \u001b[32m━━━━━━━━━━━━━━━━━━━━\u001b[0m\u001b[37m\u001b[0m \u001b[1m31s\u001b[0m 43ms/step - accuracy: 0.9879 - loss: 0.1431 - val_accuracy: 0.0201 - val_loss: 14.6793\n",
      "Epoch 46/50\n",
      "\u001b[1m721/721\u001b[0m \u001b[32m━━━━━━━━━━━━━━━━━━━━\u001b[0m\u001b[37m\u001b[0m \u001b[1m31s\u001b[0m 43ms/step - accuracy: 0.9906 - loss: 0.1229 - val_accuracy: 0.0194 - val_loss: 14.9309\n",
      "Epoch 47/50\n",
      "\u001b[1m721/721\u001b[0m \u001b[32m━━━━━━━━━━━━━━━━━━━━\u001b[0m\u001b[37m\u001b[0m \u001b[1m31s\u001b[0m 42ms/step - accuracy: 0.9924 - loss: 0.1046 - val_accuracy: 0.0210 - val_loss: 14.9747\n",
      "Epoch 48/50\n",
      "\u001b[1m721/721\u001b[0m \u001b[32m━━━━━━━━━━━━━━━━━━━━\u001b[0m\u001b[37m\u001b[0m \u001b[1m41s\u001b[0m 42ms/step - accuracy: 0.9925 - loss: 0.1025 - val_accuracy: 0.0203 - val_loss: 15.1364\n",
      "Epoch 49/50\n",
      "\u001b[1m721/721\u001b[0m \u001b[32m━━━━━━━━━━━━━━━━━━━━\u001b[0m\u001b[37m\u001b[0m \u001b[1m31s\u001b[0m 43ms/step - accuracy: 0.9962 - loss: 0.0764 - val_accuracy: 0.0200 - val_loss: 15.2931\n",
      "Epoch 50/50\n",
      "\u001b[1m721/721\u001b[0m \u001b[32m━━━━━━━━━━━━━━━━━━━━\u001b[0m\u001b[37m\u001b[0m \u001b[1m41s\u001b[0m 42ms/step - accuracy: 0.9966 - loss: 0.0669 - val_accuracy: 0.0201 - val_loss: 15.3926\n"
     ]
    },
    {
     "data": {
      "text/plain": [
       "<keras.src.callbacks.history.History at 0x1e502301dc0>"
      ]
     },
     "execution_count": 12,
     "metadata": {},
     "output_type": "execute_result"
    }
   ],
   "source": [
    "from keras.models import Sequential\n",
    "from keras.layers import Embedding, LSTM, Dense\n",
    "from keras.optimizers import Adam\n",
    "\n",
    "# Define the LSTM model\n",
    "lstm_model = Sequential()\n",
    "lstm_model.add(Embedding(vocab_size, 50, input_length=sequence_length))\n",
    "lstm_model.add(LSTM(100))\n",
    "lstm_model.add(Dense(vocab_size, activation='softmax'))\n",
    "\n",
    "# Compile the model\n",
    "lstm_model.compile(loss='categorical_crossentropy', optimizer=Adam(), metrics=['accuracy'])\n",
    "\n",
    "# Train the model\n",
    "lstm_model.fit(X_train, y_train, epochs=50, validation_data=(X_test, y_test))\n"
   ]
  },
  {
   "cell_type": "code",
   "execution_count": 14,
   "id": "fc165004-b195-4455-98dd-92fcd8dc593f",
   "metadata": {},
   "outputs": [
    {
     "name": "stderr",
     "output_type": "stream",
     "text": [
      "C:\\Users\\Mustafa\\anaconda3\\Lib\\site-packages\\keras\\src\\layers\\core\\embedding.py:90: UserWarning: Argument `input_length` is deprecated. Just remove it.\n",
      "  warnings.warn(\n"
     ]
    },
    {
     "name": "stdout",
     "output_type": "stream",
     "text": [
      "Epoch 1/50\n",
      "\u001b[1m721/721\u001b[0m \u001b[32m━━━━━━━━━━━━━━━━━━━━\u001b[0m\u001b[37m\u001b[0m \u001b[1m33s\u001b[0m 42ms/step - accuracy: 0.0130 - loss: 8.6979 - val_accuracy: 0.0111 - val_loss: 7.9976\n",
      "Epoch 2/50\n",
      "\u001b[1m721/721\u001b[0m \u001b[32m━━━━━━━━━━━━━━━━━━━━\u001b[0m\u001b[37m\u001b[0m \u001b[1m29s\u001b[0m 40ms/step - accuracy: 0.0134 - loss: 7.4057 - val_accuracy: 0.0180 - val_loss: 8.1002\n",
      "Epoch 3/50\n",
      "\u001b[1m721/721\u001b[0m \u001b[32m━━━━━━━━━━━━━━━━━━━━\u001b[0m\u001b[37m\u001b[0m \u001b[1m30s\u001b[0m 42ms/step - accuracy: 0.0254 - loss: 6.9565 - val_accuracy: 0.0215 - val_loss: 8.2109\n",
      "Epoch 4/50\n",
      "\u001b[1m721/721\u001b[0m \u001b[32m━━━━━━━━━━━━━━━━━━━━\u001b[0m\u001b[37m\u001b[0m \u001b[1m29s\u001b[0m 40ms/step - accuracy: 0.0378 - loss: 6.4484 - val_accuracy: 0.0219 - val_loss: 8.4716\n",
      "Epoch 5/50\n",
      "\u001b[1m721/721\u001b[0m \u001b[32m━━━━━━━━━━━━━━━━━━━━\u001b[0m\u001b[37m\u001b[0m \u001b[1m29s\u001b[0m 40ms/step - accuracy: 0.0607 - loss: 5.9420 - val_accuracy: 0.0224 - val_loss: 8.6478\n",
      "Epoch 6/50\n",
      "\u001b[1m721/721\u001b[0m \u001b[32m━━━━━━━━━━━━━━━━━━━━\u001b[0m\u001b[37m\u001b[0m \u001b[1m28s\u001b[0m 39ms/step - accuracy: 0.1030 - loss: 5.4610 - val_accuracy: 0.0241 - val_loss: 8.8654\n",
      "Epoch 7/50\n",
      "\u001b[1m721/721\u001b[0m \u001b[32m━━━━━━━━━━━━━━━━━━━━\u001b[0m\u001b[37m\u001b[0m \u001b[1m28s\u001b[0m 39ms/step - accuracy: 0.1694 - loss: 4.9558 - val_accuracy: 0.0224 - val_loss: 9.1178\n",
      "Epoch 8/50\n",
      "\u001b[1m721/721\u001b[0m \u001b[32m━━━━━━━━━━━━━━━━━━━━\u001b[0m\u001b[37m\u001b[0m \u001b[1m28s\u001b[0m 39ms/step - accuracy: 0.2391 - loss: 4.4956 - val_accuracy: 0.0229 - val_loss: 9.3537\n",
      "Epoch 9/50\n",
      "\u001b[1m721/721\u001b[0m \u001b[32m━━━━━━━━━━━━━━━━━━━━\u001b[0m\u001b[37m\u001b[0m \u001b[1m28s\u001b[0m 39ms/step - accuracy: 0.3269 - loss: 4.0073 - val_accuracy: 0.0217 - val_loss: 9.5930\n",
      "Epoch 10/50\n",
      "\u001b[1m721/721\u001b[0m \u001b[32m━━━━━━━━━━━━━━━━━━━━\u001b[0m\u001b[37m\u001b[0m \u001b[1m28s\u001b[0m 39ms/step - accuracy: 0.4089 - loss: 3.5872 - val_accuracy: 0.0215 - val_loss: 9.7281\n",
      "Epoch 11/50\n",
      "\u001b[1m721/721\u001b[0m \u001b[32m━━━━━━━━━━━━━━━━━━━━\u001b[0m\u001b[37m\u001b[0m \u001b[1m29s\u001b[0m 40ms/step - accuracy: 0.4842 - loss: 3.1564 - val_accuracy: 0.0239 - val_loss: 10.0155\n",
      "Epoch 12/50\n",
      "\u001b[1m721/721\u001b[0m \u001b[32m━━━━━━━━━━━━━━━━━━━━\u001b[0m\u001b[37m\u001b[0m \u001b[1m30s\u001b[0m 42ms/step - accuracy: 0.5520 - loss: 2.7498 - val_accuracy: 0.0232 - val_loss: 10.2013\n",
      "Epoch 13/50\n",
      "\u001b[1m721/721\u001b[0m \u001b[32m━━━━━━━━━━━━━━━━━━━━\u001b[0m\u001b[37m\u001b[0m \u001b[1m29s\u001b[0m 40ms/step - accuracy: 0.6000 - loss: 2.4312 - val_accuracy: 0.0234 - val_loss: 10.4540\n",
      "Epoch 14/50\n",
      "\u001b[1m721/721\u001b[0m \u001b[32m━━━━━━━━━━━━━━━━━━━━\u001b[0m\u001b[37m\u001b[0m \u001b[1m29s\u001b[0m 40ms/step - accuracy: 0.6507 - loss: 2.1038 - val_accuracy: 0.0220 - val_loss: 10.6434\n",
      "Epoch 15/50\n",
      "\u001b[1m721/721\u001b[0m \u001b[32m━━━━━━━━━━━━━━━━━━━━\u001b[0m\u001b[37m\u001b[0m \u001b[1m27s\u001b[0m 38ms/step - accuracy: 0.6952 - loss: 1.8364 - val_accuracy: 0.0229 - val_loss: 10.8196\n",
      "Epoch 16/50\n",
      "\u001b[1m721/721\u001b[0m \u001b[32m━━━━━━━━━━━━━━━━━━━━\u001b[0m\u001b[37m\u001b[0m \u001b[1m29s\u001b[0m 40ms/step - accuracy: 0.7258 - loss: 1.6224 - val_accuracy: 0.0220 - val_loss: 11.0405\n",
      "Epoch 17/50\n",
      "\u001b[1m721/721\u001b[0m \u001b[32m━━━━━━━━━━━━━━━━━━━━\u001b[0m\u001b[37m\u001b[0m \u001b[1m29s\u001b[0m 40ms/step - accuracy: 0.7616 - loss: 1.4145 - val_accuracy: 0.0213 - val_loss: 11.2425\n",
      "Epoch 18/50\n",
      "\u001b[1m721/721\u001b[0m \u001b[32m━━━━━━━━━━━━━━━━━━━━\u001b[0m\u001b[37m\u001b[0m \u001b[1m29s\u001b[0m 40ms/step - accuracy: 0.7903 - loss: 1.2358 - val_accuracy: 0.0210 - val_loss: 11.4031\n",
      "Epoch 19/50\n",
      "\u001b[1m721/721\u001b[0m \u001b[32m━━━━━━━━━━━━━━━━━━━━\u001b[0m\u001b[37m\u001b[0m \u001b[1m29s\u001b[0m 40ms/step - accuracy: 0.8217 - loss: 1.0717 - val_accuracy: 0.0215 - val_loss: 11.5954\n",
      "Epoch 20/50\n",
      "\u001b[1m721/721\u001b[0m \u001b[32m━━━━━━━━━━━━━━━━━━━━\u001b[0m\u001b[37m\u001b[0m \u001b[1m31s\u001b[0m 42ms/step - accuracy: 0.8417 - loss: 0.9545 - val_accuracy: 0.0205 - val_loss: 11.7825\n",
      "Epoch 21/50\n",
      "\u001b[1m721/721\u001b[0m \u001b[32m━━━━━━━━━━━━━━━━━━━━\u001b[0m\u001b[37m\u001b[0m \u001b[1m30s\u001b[0m 41ms/step - accuracy: 0.8697 - loss: 0.7959 - val_accuracy: 0.0208 - val_loss: 11.9480\n",
      "Epoch 22/50\n",
      "\u001b[1m721/721\u001b[0m \u001b[32m━━━━━━━━━━━━━━━━━━━━\u001b[0m\u001b[37m\u001b[0m \u001b[1m30s\u001b[0m 41ms/step - accuracy: 0.8878 - loss: 0.6923 - val_accuracy: 0.0220 - val_loss: 12.1390\n",
      "Epoch 23/50\n",
      "\u001b[1m721/721\u001b[0m \u001b[32m━━━━━━━━━━━━━━━━━━━━\u001b[0m\u001b[37m\u001b[0m \u001b[1m41s\u001b[0m 40ms/step - accuracy: 0.9030 - loss: 0.6031 - val_accuracy: 0.0219 - val_loss: 12.3184\n",
      "Epoch 24/50\n",
      "\u001b[1m721/721\u001b[0m \u001b[32m━━━━━━━━━━━━━━━━━━━━\u001b[0m\u001b[37m\u001b[0m \u001b[1m29s\u001b[0m 40ms/step - accuracy: 0.9184 - loss: 0.5231 - val_accuracy: 0.0215 - val_loss: 12.4437\n",
      "Epoch 25/50\n",
      "\u001b[1m721/721\u001b[0m \u001b[32m━━━━━━━━━━━━━━━━━━━━\u001b[0m\u001b[37m\u001b[0m \u001b[1m29s\u001b[0m 41ms/step - accuracy: 0.9362 - loss: 0.4354 - val_accuracy: 0.0219 - val_loss: 12.5972\n",
      "Epoch 26/50\n",
      "\u001b[1m721/721\u001b[0m \u001b[32m━━━━━━━━━━━━━━━━━━━━\u001b[0m\u001b[37m\u001b[0m \u001b[1m29s\u001b[0m 41ms/step - accuracy: 0.9423 - loss: 0.3956 - val_accuracy: 0.0217 - val_loss: 12.7903\n",
      "Epoch 27/50\n",
      "\u001b[1m721/721\u001b[0m \u001b[32m━━━━━━━━━━━━━━━━━━━━\u001b[0m\u001b[37m\u001b[0m \u001b[1m29s\u001b[0m 41ms/step - accuracy: 0.9572 - loss: 0.3261 - val_accuracy: 0.0224 - val_loss: 12.9636\n",
      "Epoch 28/50\n",
      "\u001b[1m721/721\u001b[0m \u001b[32m━━━━━━━━━━━━━━━━━━━━\u001b[0m\u001b[37m\u001b[0m \u001b[1m28s\u001b[0m 39ms/step - accuracy: 0.9614 - loss: 0.2854 - val_accuracy: 0.0215 - val_loss: 13.0999\n",
      "Epoch 29/50\n",
      "\u001b[1m721/721\u001b[0m \u001b[32m━━━━━━━━━━━━━━━━━━━━\u001b[0m\u001b[37m\u001b[0m \u001b[1m29s\u001b[0m 41ms/step - accuracy: 0.9681 - loss: 0.2416 - val_accuracy: 0.0212 - val_loss: 13.2713\n",
      "Epoch 30/50\n",
      "\u001b[1m721/721\u001b[0m \u001b[32m━━━━━━━━━━━━━━━━━━━━\u001b[0m\u001b[37m\u001b[0m \u001b[1m32s\u001b[0m 45ms/step - accuracy: 0.9761 - loss: 0.2019 - val_accuracy: 0.0210 - val_loss: 13.4115\n",
      "Epoch 31/50\n",
      "\u001b[1m721/721\u001b[0m \u001b[32m━━━━━━━━━━━━━━━━━━━━\u001b[0m\u001b[37m\u001b[0m \u001b[1m33s\u001b[0m 46ms/step - accuracy: 0.9774 - loss: 0.1813 - val_accuracy: 0.0224 - val_loss: 13.5495\n",
      "Epoch 32/50\n",
      "\u001b[1m721/721\u001b[0m \u001b[32m━━━━━━━━━━━━━━━━━━━━\u001b[0m\u001b[37m\u001b[0m \u001b[1m32s\u001b[0m 44ms/step - accuracy: 0.9836 - loss: 0.1499 - val_accuracy: 0.0210 - val_loss: 13.7822\n",
      "Epoch 33/50\n",
      "\u001b[1m721/721\u001b[0m \u001b[32m━━━━━━━━━━━━━━━━━━━━\u001b[0m\u001b[37m\u001b[0m \u001b[1m30s\u001b[0m 41ms/step - accuracy: 0.9845 - loss: 0.1376 - val_accuracy: 0.0206 - val_loss: 13.8759\n",
      "Epoch 34/50\n",
      "\u001b[1m721/721\u001b[0m \u001b[32m━━━━━━━━━━━━━━━━━━━━\u001b[0m\u001b[37m\u001b[0m \u001b[1m29s\u001b[0m 41ms/step - accuracy: 0.9875 - loss: 0.1168 - val_accuracy: 0.0227 - val_loss: 14.0080\n",
      "Epoch 35/50\n",
      "\u001b[1m721/721\u001b[0m \u001b[32m━━━━━━━━━━━━━━━━━━━━\u001b[0m\u001b[37m\u001b[0m \u001b[1m41s\u001b[0m 41ms/step - accuracy: 0.9909 - loss: 0.0949 - val_accuracy: 0.0215 - val_loss: 14.1672\n",
      "Epoch 36/50\n",
      "\u001b[1m721/721\u001b[0m \u001b[32m━━━━━━━━━━━━━━━━━━━━\u001b[0m\u001b[37m\u001b[0m \u001b[1m29s\u001b[0m 41ms/step - accuracy: 0.9918 - loss: 0.0866 - val_accuracy: 0.0217 - val_loss: 14.3476\n",
      "Epoch 37/50\n",
      "\u001b[1m721/721\u001b[0m \u001b[32m━━━━━━━━━━━━━━━━━━━━\u001b[0m\u001b[37m\u001b[0m \u001b[1m29s\u001b[0m 41ms/step - accuracy: 0.9928 - loss: 0.0775 - val_accuracy: 0.0210 - val_loss: 14.4635\n",
      "Epoch 38/50\n",
      "\u001b[1m721/721\u001b[0m \u001b[32m━━━━━━━━━━━━━━━━━━━━\u001b[0m\u001b[37m\u001b[0m \u001b[1m29s\u001b[0m 41ms/step - accuracy: 0.9932 - loss: 0.0740 - val_accuracy: 0.0213 - val_loss: 14.6175\n",
      "Epoch 39/50\n",
      "\u001b[1m721/721\u001b[0m \u001b[32m━━━━━━━━━━━━━━━━━━━━\u001b[0m\u001b[37m\u001b[0m \u001b[1m41s\u001b[0m 41ms/step - accuracy: 0.9959 - loss: 0.0544 - val_accuracy: 0.0215 - val_loss: 14.6977\n",
      "Epoch 40/50\n",
      "\u001b[1m721/721\u001b[0m \u001b[32m━━━━━━━━━━━━━━━━━━━━\u001b[0m\u001b[37m\u001b[0m \u001b[1m30s\u001b[0m 41ms/step - accuracy: 0.9947 - loss: 0.0505 - val_accuracy: 0.0219 - val_loss: 14.8444\n",
      "Epoch 41/50\n",
      "\u001b[1m721/721\u001b[0m \u001b[32m━━━━━━━━━━━━━━━━━━━━\u001b[0m\u001b[37m\u001b[0m \u001b[1m30s\u001b[0m 41ms/step - accuracy: 0.9950 - loss: 0.0514 - val_accuracy: 0.0212 - val_loss: 14.9920\n",
      "Epoch 42/50\n",
      "\u001b[1m721/721\u001b[0m \u001b[32m━━━━━━━━━━━━━━━━━━━━\u001b[0m\u001b[37m\u001b[0m \u001b[1m30s\u001b[0m 41ms/step - accuracy: 0.9958 - loss: 0.0485 - val_accuracy: 0.0208 - val_loss: 15.0366\n",
      "Epoch 43/50\n",
      "\u001b[1m721/721\u001b[0m \u001b[32m━━━━━━━━━━━━━━━━━━━━\u001b[0m\u001b[37m\u001b[0m \u001b[1m30s\u001b[0m 42ms/step - accuracy: 0.9946 - loss: 0.0493 - val_accuracy: 0.0213 - val_loss: 15.1768\n",
      "Epoch 44/50\n",
      "\u001b[1m721/721\u001b[0m \u001b[32m━━━━━━━━━━━━━━━━━━━━\u001b[0m\u001b[37m\u001b[0m \u001b[1m30s\u001b[0m 41ms/step - accuracy: 0.9957 - loss: 0.0425 - val_accuracy: 0.0219 - val_loss: 15.3332\n",
      "Epoch 45/50\n",
      "\u001b[1m721/721\u001b[0m \u001b[32m━━━━━━━━━━━━━━━━━━━━\u001b[0m\u001b[37m\u001b[0m \u001b[1m29s\u001b[0m 40ms/step - accuracy: 0.9963 - loss: 0.0315 - val_accuracy: 0.0213 - val_loss: 15.4158\n",
      "Epoch 46/50\n",
      "\u001b[1m721/721\u001b[0m \u001b[32m━━━━━━━━━━━━━━━━━━━━\u001b[0m\u001b[37m\u001b[0m \u001b[1m41s\u001b[0m 40ms/step - accuracy: 0.9972 - loss: 0.0218 - val_accuracy: 0.0219 - val_loss: 15.4612\n",
      "Epoch 47/50\n",
      "\u001b[1m721/721\u001b[0m \u001b[32m━━━━━━━━━━━━━━━━━━━━\u001b[0m\u001b[37m\u001b[0m \u001b[1m29s\u001b[0m 40ms/step - accuracy: 0.9968 - loss: 0.0270 - val_accuracy: 0.0215 - val_loss: 15.6698\n",
      "Epoch 48/50\n",
      "\u001b[1m721/721\u001b[0m \u001b[32m━━━━━━━━━━━━━━━━━━━━\u001b[0m\u001b[37m\u001b[0m \u001b[1m30s\u001b[0m 42ms/step - accuracy: 0.9862 - loss: 0.0796 - val_accuracy: 0.0226 - val_loss: 15.5871\n",
      "Epoch 49/50\n",
      "\u001b[1m721/721\u001b[0m \u001b[32m━━━━━━━━━━━━━━━━━━━━\u001b[0m\u001b[37m\u001b[0m \u001b[1m30s\u001b[0m 42ms/step - accuracy: 0.9896 - loss: 0.0636 - val_accuracy: 0.0205 - val_loss: 15.6263\n",
      "Epoch 50/50\n",
      "\u001b[1m721/721\u001b[0m \u001b[32m━━━━━━━━━━━━━━━━━━━━\u001b[0m\u001b[37m\u001b[0m \u001b[1m42s\u001b[0m 42ms/step - accuracy: 0.9971 - loss: 0.0218 - val_accuracy: 0.0213 - val_loss: 15.7254\n"
     ]
    },
    {
     "data": {
      "text/plain": [
       "<keras.src.callbacks.history.History at 0x1e5027cfb00>"
      ]
     },
     "execution_count": 14,
     "metadata": {},
     "output_type": "execute_result"
    }
   ],
   "source": [
    "from keras.layers import SimpleRNN\n",
    "\n",
    "# Define the RNN model for comparison\n",
    "rnn_model = Sequential()\n",
    "rnn_model.add(Embedding(vocab_size, 50, input_length=sequence_length))\n",
    "rnn_model.add(SimpleRNN(100))\n",
    "rnn_model.add(Dense(vocab_size, activation='softmax'))\n",
    "\n",
    "# Compile the model\n",
    "rnn_model.compile(loss='categorical_crossentropy', optimizer=Adam(), metrics=['accuracy'])\n",
    "\n",
    "# Train the model\n",
    "rnn_model.fit(X_train, y_train, epochs=50, validation_data=(X_test, y_test))\n"
   ]
  },
  {
   "cell_type": "code",
   "execution_count": 21,
   "id": "c4d083b7-53b2-4337-91fc-2014e110104e",
   "metadata": {},
   "outputs": [
    {
     "name": "stdout",
     "output_type": "stream",
     "text": [
      "LSTM Model: Loss = 15.3926, Accuracy = 0.0201\n",
      "RNN Model: Loss = 15.7254, Accuracy = 0.0213\n"
     ]
    },
    {
     "data": {
      "image/png": "[encoded data removed]",
      "text/plain": [
       "<Figure size 1000x500 with 2 Axes>"
      ]
     },
     "metadata": {},
     "output_type": "display_data"
    }
   ],
   "source": [
    "import matplotlib.pyplot as plt\n",
    "\n",
    "\n",
    "# Evaluate LSTM model\n",
    "lstm_loss, lstm_accuracy = lstm_model.evaluate(X_test, y_test, verbose=0)\n",
    "\n",
    "# Evaluate RNN model (ensure rnn_model is already trained)\n",
    "rnn_loss, rnn_accuracy = rnn_model.evaluate(X_test, y_test, verbose=0)\n",
    "\n",
    "# Print the comparison\n",
    "print(f\"LSTM Model: Loss = {lstm_loss:.4f}, Accuracy = {lstm_accuracy:.4f}\")\n",
    "print(f\"RNN Model: Loss = {rnn_loss:.4f}, Accuracy = {rnn_accuracy:.4f}\")\n",
    "\n",
    "# Plot accuracy comparison\n",
    "models = ['LSTM', 'SimpleRNN']\n",
    "accuracy = [lstm_accuracy, rnn_accuracy]\n",
    "loss = [lstm_loss, rnn_loss]\n",
    "\n",
    "plt.figure(figsize=(10, 5))\n",
    "\n",
    "# Accuracy plot\n",
    "plt.subplot(1, 2, 1)\n",
    "plt.bar(models, accuracy, color=['blue', 'green'])\n",
    "plt.title('Accuracy Comparison')\n",
    "plt.ylabel('Accuracy')\n",
    "\n",
    "# Loss plot\n",
    "plt.subplot(1, 2, 2)\n",
    "plt.bar(models, loss, color=['blue', 'green'])\n",
    "plt.title('Loss Comparison')\n",
    "plt.ylabel('Loss')\n",
    "\n",
    "plt.tight_layout()\n",
    "plt.show()\n"
   ]
  },
  {
   "cell_type": "code",
   "execution_count": null,
   "id": "052a97e1-4851-4e72-9e96-525a73d082a9",
   "metadata": {},
   "outputs": [],
   "source": [
    "import numpy as np\n",
    "from tensorflow.keras.preprocessing.sequence import pad_sequences\n",
    "\n",
    "def predict_next_words(model, tokenizer, seed_text, num_words):\n",
    "    for _ in range(num_words):\n",
    "        token_list = tokenizer.texts_to_sequences([seed_text])[0]\n",
    "        token_list = pad_sequences([token_list], maxlen=sequence_length)\n",
    "        predicted = np.argmax(model.predict(token_list), axis=-1)\n",
    "        output_word = tokenizer.index_word[predicted[0]]\n",
    "        seed_text += \" \" + output_word\n",
    "    return seed_text\n",
    "\n",
    "# Example usage:\n",
    "print(predict_next_words(lstm_model, tokenizer, \"So shaken as we\", 5))\n"
   ]
  },
  {
   "cell_type": "code",
   "execution_count": 28,
   "id": "8c112df8-685e-4c54-8bd8-1c74b98970e0",
   "metadata": {},
   "outputs": [
    {
     "name": "stdout",
     "output_type": "stream",
     "text": [
      "\u001b[1m1/1\u001b[0m \u001b[32m━━━━━━━━━━━━━━━━━━━━\u001b[0m\u001b[37m\u001b[0m \u001b[1m0s\u001b[0m 101ms/step\n",
      "\u001b[1m1/1\u001b[0m \u001b[32m━━━━━━━━━━━━━━━━━━━━\u001b[0m\u001b[37m\u001b[0m \u001b[1m0s\u001b[0m 125ms/step\n",
      "\u001b[1m1/1\u001b[0m \u001b[32m━━━━━━━━━━━━━━━━━━━━\u001b[0m\u001b[37m\u001b[0m \u001b[1m0s\u001b[0m 133ms/step\n",
      "\u001b[1m1/1\u001b[0m \u001b[32m━━━━━━━━━━━━━━━━━━━━\u001b[0m\u001b[37m\u001b[0m \u001b[1m0s\u001b[0m 102ms/step\n",
      "\u001b[1m1/1\u001b[0m \u001b[32m━━━━━━━━━━━━━━━━━━━━\u001b[0m\u001b[37m\u001b[0m \u001b[1m0s\u001b[0m 78ms/step\n",
      "So shaken as we good think man friend upon\n"
     ]
    }
   ],
   "source": [
    "\n",
    "print(predict_next_words(lstm_model, tokenizer, \"So shaken as we\", 5))\n"
   ]
  },
  {
   "cell_type": "code",
   "execution_count": 26,
   "id": "a6cd1df1-f579-47ec-b1ef-8e915ea266af",
   "metadata": {},
   "outputs": [
    {
     "name": "stdout",
     "output_type": "stream",
     "text": [
      "Model and tokenizer saved successfully.\n"
     ]
    }
   ],
   "source": [
    "#saving model\n",
    "import pickle\n",
    "lstm_model.save('lstm_model.keras')\n",
    "\n",
    "with open('tokenizer.pickle', 'wb') as handle:\n",
    "    pickle.dump(tokenizer, handle, protocol=pickle.HIGHEST_PROTOCOL)\n",
    "\n",
    "print(\"Model and tokenizer saved successfully.\")"
   ]
  },
  {
   "cell_type": "code",
   "execution_count": null,
   "id": "3ba8308c-0901-41a2-94b5-46f70785c5ce",
   "metadata": {},
   "outputs": [],
   "source": []
  },
  {
   "cell_type": "code",
   "execution_count": null,
   "id": "f88d70f9-c6b4-4173-9c33-1a1162e6155c",
   "metadata": {},
   "outputs": [],
   "source": []
  },
  {
   "cell_type": "code",
   "execution_count": null,
   "id": "9d416ed0-7d76-41c3-9b45-8740074c3b54",
   "metadata": {},
   "outputs": [],
   "source": []
  },
  {
   "cell_type": "code",
   "execution_count": null,
   "id": "47aabe4e-718f-4d1f-8df7-4e2fde9c012a",
   "metadata": {},
   "outputs": [],
   "source": []
  }
 ],
 "metadata": {
  "kernelspec": {
   "display_name": "Python 3 (ipykernel)",
   "language": "python",
   "name": "python3"
  },
  "language_info": {
   "codemirror_mode": {
    "name": "ipython",
    "version": 3
   },
   "file_extension": ".py",
   "mimetype": "text/x-python",
   "name": "python",
   "nbconvert_exporter": "python",
   "pygments_lexer": "ipython3",
   "version": "3.12.4"
  }
 },
 "nbformat": 4,
 "nbformat_minor": 5
}
